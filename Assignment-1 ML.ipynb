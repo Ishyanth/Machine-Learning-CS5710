{
 "cells": [
  {
   "cell_type": "code",
   "execution_count": 148,
   "id": "5c562f9f",
   "metadata": {},
   "outputs": [
    {
     "name": "stdout",
     "output_type": "stream",
     "text": [
      "[19, 19, 20, 22, 24, 24, 24, 25, 25, 26]\n",
      "min= 19 , max= 26\n",
      "[19, 19, 20, 22, 24, 24, 24, 25, 25, 26, 19, 26]\n",
      "Median Age= 24.0\n",
      "Average Age= 22.75\n",
      "Range of the ages= 7\n",
      "12\n"
     ]
    }
   ],
   "source": [
    "#Question 1\n",
    "#List for 10 student ages\n",
    "ages = [19,22,19,24,20,25,26,24,25,24]\n",
    "\n",
    "#Sorting list by using sort()\n",
    "ages.sort()\n",
    "print(ages)\n",
    "\n",
    "#Finding min and max\n",
    "n = min(ages)\n",
    "m = max(ages)\n",
    "print('min=',n,', max=',m)\n",
    "\n",
    "#adding min and max ages to the list\n",
    "#Using append() to add the values into the list\n",
    "ages.append(n)\n",
    "ages.append(m)\n",
    "print(ages)\n",
    "\n",
    "#finding median\n",
    "a = len(ages)\n",
    "if a%2 == 0:\n",
    "    median = (ages[a//2] + ages[a//2-1])/2\n",
    "else:\n",
    "    median = ages[n//2]\n",
    "print('Median Age=', median)\n",
    "\n",
    "# Finding the avgerage age\n",
    "s = sum(ages)\n",
    "a = len(ages)\n",
    "avg = s/a\n",
    "print('Average Age=',avg)\n",
    "\n",
    "#Finding range of the ages\n",
    "range_ages = m-n\n",
    "print('Range of the ages=',range_ages)\n",
    "print(len(ages))"
   ]
  },
  {
   "cell_type": "code",
   "execution_count": null,
   "id": "d580bd21",
   "metadata": {},
   "outputs": [],
   "source": [
    "j= 10\n",
    "p = 10//3\n",
    "print(p)"
   ]
  },
  {
   "cell_type": "code",
   "execution_count": 149,
   "id": "dcb37b82",
   "metadata": {},
   "outputs": [
    {
     "name": "stdout",
     "output_type": "stream",
     "text": [
      "{'name': 'Snoopy', 'color': 'white', 'breed': 'samoyed', 'legs': 'short', 'age': '17'} \n",
      "\n",
      "{'first_name': 'Ishyanth', 'last_name': 'Kadali', 'gender': 'male', 'age': '23', 'martial_status': 'Single', 'skills': ['python', 'tensorflow', 'keras', 'pandas'], 'country': 'USA', 'city': 'Warrensburg', 'Address': '501 Joll St'} \n",
      "\n",
      "9 \n",
      "\n",
      "['python', 'tensorflow', 'keras', 'pandas']\n",
      "<class 'list'> \n",
      "\n",
      "{'first_name': 'Ishyanth', 'last_name': 'Kadali', 'gender': 'male', 'age': '23', 'martial_status': 'Single', 'skills': ['python', 'tensorflow', 'keras', 'pandas', 'java', 'C++'], 'country': 'USA', 'city': 'Warrensburg', 'Address': '501 Joll St'} \n",
      "\n",
      "dict_keys(['first_name', 'last_name', 'gender', 'age', 'martial_status', 'skills', 'country', 'city', 'Address']) \n",
      "\n",
      "dict_values(['Ishyanth', 'Kadali', 'male', '23', 'Single', ['python', 'tensorflow', 'keras', 'pandas', 'java', 'C++'], 'USA', 'Warrensburg', '501 Joll St'])\n"
     ]
    }
   ],
   "source": [
    "#Question 2\n",
    "#Creating a dictionary\n",
    "dog = {}\n",
    "#adding keys and values\n",
    "dog.update({\"name\":\"Snoopy\", \"color\":\"white\", \"breed\":\"samoyed\", \"legs\":\"short\", \"age\":\"17\"})\n",
    "print(dog,'\\n')\n",
    "\n",
    "#creating a student dictionary\n",
    "std = {\n",
    "    \"first_name\":\"Ishyanth\",\n",
    "    \"last_name\":\"Kadali\",\n",
    "    \"gender\":\"male\",\n",
    "    \"age\":\"23\",\n",
    "    \"martial_status\":\"Single\",\n",
    "    \"skills\":[\"python\", \"tensorflow\", \"keras\", \"pandas\"],\n",
    "    \"country\":\"USA\",\n",
    "    \"city\":\"Warrensburg\",\n",
    "    \"Address\":\"501 Joll St\"\n",
    "    }\n",
    "print(std,'\\n')\n",
    "#finding Lenght of dictionary\n",
    "print(len(std),'\\n')\n",
    "\n",
    "#type check\n",
    "v = std.get(\"skills\")\n",
    "print(v)\n",
    "print(type(v),'\\n')\n",
    "\n",
    "#Modifying values\n",
    "std[\"skills\"].append(\"java\")\n",
    "std[\"skills\"].append(\"C++\")\n",
    "print(std,'\\n')\n",
    "\n",
    "#Dictionary keys as list\n",
    "print(std.keys(),'\\n')\n",
    "#Dictionary values as list\n",
    "print(std.values())\n"
   ]
  },
  {
   "cell_type": "code",
   "execution_count": 62,
   "id": "248d4df9",
   "metadata": {},
   "outputs": [
    {
     "name": "stdout",
     "output_type": "stream",
     "text": [
      "('Phani', 'Deep', 'Karthik', 'Chintu', 'Vinela', 'Hanisha', 'Bharani')\n",
      "Number of siblings = 7 \n",
      "\n",
      "('Phani', 'Deep', 'Karthik', 'Chintu', 'Vinela', 'Hanisha', 'Bharani', 'Lakshmana Rao', 'Satya Veni')\n"
     ]
    }
   ],
   "source": [
    "#Question 3\n",
    "#creating tuples\n",
    "brothers = ('Phani','Deep','Karthik','Chintu')\n",
    "sisters = ('Vinela','Hanisha', 'Bharani')\n",
    "#join tuples\n",
    "siblings = brothers + sisters\n",
    "print(siblings)\n",
    "#lenght of tuples\n",
    "print('Number of siblings =',len(siblings),'\\n')\n",
    "\n",
    "#we can't modify tuples\n",
    "parents = ('Lakshmana Rao','Satya Veni')\n",
    "family_members = siblings + parents\n",
    "print(family_members)"
   ]
  },
  {
   "cell_type": "code",
   "execution_count": 63,
   "id": "e9ca2818",
   "metadata": {},
   "outputs": [
    {
     "name": "stdout",
     "output_type": "stream",
     "text": [
      "length of it_companies: 7\n",
      "{'Apple', 'Microsoft', 'Oracle', 'IBM', 'Google', 'Twitter', 'Amazon', 'Facebook'}\n",
      "{'Apple', 'Tesla', 'Alienware', 'Microsoft', 'Razer', 'Oracle', 'Amazon', 'Facebook', 'Google', 'Twitter', 'IBM'}\n",
      "{'Apple', 'Tesla', 'Alienware', 'Microsoft', 'Razer', 'Oracle', 'Amazon', 'Facebook', 'Google', 'Twitter'}\n",
      "{19, 20, 22, 24, 25, 26, 27, 28}\n",
      "{19, 20, 22, 24, 25, 26}\n",
      "True\n",
      "False\n",
      "{19, 20, 22, 24, 25, 26, 27, 28} \n",
      "\n",
      "{19, 20, 22, 24, 25, 26, 27, 28} \n",
      "\n",
      "symmetric_difference A nad B is {27, 28}\n",
      "set()\n",
      "set()\n",
      "{19, 22, 24, 25, 26}\n",
      "Length of the list is greater than length of the set: True\n"
     ]
    }
   ],
   "source": [
    "#Question 4\n",
    "it_companies = {'Facebook', 'Google', 'Microsoft', 'Apple', 'IBM', 'Oracle', 'Amazon'}\n",
    "A = {19, 22, 24, 20, 25, 26}\n",
    "B = {19, 22, 20, 25, 26, 24, 28, 27}\n",
    "age = [22, 19, 24, 25, 26, 24, 25, 24]\n",
    "\n",
    "#Finding the length of it_companies\n",
    "print(\"length of it_companies:\", len(it_companies))\n",
    "it_companies.add('Twitter')\n",
    "print(it_companies)\n",
    "\n",
    "#adding companies\n",
    "it_companies.update(['Tesla','Razer','Alienware'])\n",
    "print(it_companies)\n",
    "\n",
    "#removing a company\n",
    "it_companies.remove('IBM')\n",
    "print(it_companies)\n",
    "\n",
    "'''Difference between remove and discard is if the item doesn't exist, the remove() function\n",
    "   will raise an error, but the discard() method won't.'''\n",
    "\n",
    "#joining 2 sets\n",
    "C = A.union(B)\n",
    "print(C)\n",
    "\n",
    "#Intersection\n",
    "D = A.intersection(B)\n",
    "print(D)\n",
    "\n",
    "#Subset\n",
    "E = A.issubset(B)\n",
    "print(E)\n",
    "\n",
    "#Disjoint sets\n",
    "F = A.isdisjoint(B)\n",
    "print(F)\n",
    "\n",
    "#Joining sets\n",
    "A.update(B)\n",
    "print(A,'\\n')\n",
    "B.update(A)\n",
    "print(B,'\\n')\n",
    "\n",
    "#Symmetric Diff\n",
    "A = {19, 22, 24, 20, 25, 26}\n",
    "B = {19, 22, 20, 25, 26, 24, 28, 27}\n",
    "G = A.symmetric_difference(B)\n",
    "print('symmetric_difference A nad B is', G)\n",
    "\n",
    "#Deleiting the sets\n",
    "A.clear()\n",
    "B.clear()\n",
    "print(A)\n",
    "print(B)\n",
    "\n",
    "#Coverting ages to set\n",
    "age_set = set(age)\n",
    "print(age_set)\n",
    "\n",
    "#compare\n",
    "x = len(age)\n",
    "z = len(age_set)\n",
    "print(\"Length of the list is greater than length of the set:\", x>z)"
   ]
  },
  {
   "cell_type": "code",
   "execution_count": 64,
   "id": "33809461",
   "metadata": {},
   "outputs": [
    {
     "name": "stdout",
     "output_type": "stream",
     "text": [
      "radius of a circle 30\n",
      "Area of the circle 2826.0\n",
      "Circumference of the circle 188.4 \n",
      "\n",
      "enter the new radius of the circle = 30\n",
      "Area of the circle 2826.0\n"
     ]
    }
   ],
   "source": [
    "#Question 5\n",
    "# calculating radius and circumference of a circle\n",
    "r = 30\n",
    "print('radius of a circle', r)\n",
    "_area_of_circle_ = 3.14*r**2\n",
    "_circum_of_circle_ = 2*3.14*r\n",
    "print('Area of the circle',_area_of_circle_)\n",
    "print('Circumference of the circle',_circum_of_circle_, '\\n')\n",
    "\n",
    "#New radius input\n",
    "radius = float(input('enter the new radius of the circle = '))\n",
    "\n",
    "_area_of_circle_ = 3.14*radius**2\n",
    "\n",
    "print('Area of the circle',_area_of_circle_)\n"
   ]
  },
  {
   "cell_type": "code",
   "execution_count": 65,
   "id": "a63d7f7f",
   "metadata": {},
   "outputs": [
    {
     "name": "stdout",
     "output_type": "stream",
     "text": [
      "Number of Unique words =  10\n",
      "Unique Words in the sentence are \n",
      "I\n",
      "and\n",
      "am\n",
      "people\n",
      "teacher\n",
      "love\n",
      "to\n",
      "inspire\n",
      "a\n",
      "teach\n"
     ]
    }
   ],
   "source": [
    "#Question 6\n",
    "sen= \"I am a teacher and I love to inspire and teach people\"\n",
    "\n",
    "#By using split methods and set\n",
    "\n",
    "words=set(sen.split(' '))\n",
    "\n",
    "#finding No. of unique words\n",
    "print('Number of Unique words = ',len(words))\n",
    "\n",
    "print('Unique Words in the sentence are ')\n",
    "for w in words:\n",
    "    print(w)\n"
   ]
  },
  {
   "cell_type": "code",
   "execution_count": 66,
   "id": "67b62ce0",
   "metadata": {},
   "outputs": [
    {
     "name": "stdout",
     "output_type": "stream",
     "text": [
      "Name\t\tAge\tCountry\t\tCity\n",
      "Asabeneh\t250\tFinland\t\tHelsinki\n"
     ]
    }
   ],
   "source": [
    "#Question 7\n",
    "#tab escape sequence\n",
    "print('Name\\t\\tAge\\tCountry\\t\\tCity')\n",
    "print('Asabeneh\\t250\\tFinland\\t\\tHelsinki')"
   ]
  },
  {
   "cell_type": "code",
   "execution_count": 67,
   "id": "091cf09a",
   "metadata": {},
   "outputs": [
    {
     "name": "stdout",
     "output_type": "stream",
     "text": [
      "The area of a circle with radius  10  is  314  meters suqare.\n"
     ]
    }
   ],
   "source": [
    "#Question 8\n",
    "#string formatting method\n",
    "radius = 10\n",
    "area = 3.14*radius**2\n",
    "print(\"The area of a circle with radius \",radius,\" is \",int(area),\" meters suqare.\")"
   ]
  },
  {
   "cell_type": "code",
   "execution_count": 68,
   "id": "af6f6984",
   "metadata": {},
   "outputs": [
    {
     "name": "stdout",
     "output_type": "stream",
     "text": [
      "Enter the number of students: 5\n",
      "Enter the weight: 145\n",
      "Enter the weight: 156\n",
      "Enter the weight: 178\n",
      "Enter the weight: 156\n",
      "Enter the weight: 174\n",
      "[65.77089365, 70.76040972, 80.73944186, 70.76040972, 78.92507238]\n"
     ]
    }
   ],
   "source": [
    "#Question 9\n",
    "#Reading input from user\n",
    "n = int(input('Enter the number of students: '))\n",
    "lbs = []\n",
    "kg = []\n",
    "for i in range(0,n):\n",
    "    t = float(input('Enter the weight: '))\n",
    "    lbs.append(t)\n",
    "\n",
    "#concerting lbs to kgs\n",
    "ki = 0.45359237\n",
    "for y in lbs:\n",
    "    kg.append(y * ki)\n",
    "print(kg)"
   ]
  },
  {
   "cell_type": "code",
   "execution_count": 38,
   "id": "21558e3f",
   "metadata": {},
   "outputs": [],
   "source": [
    "#Question 10\n",
    "#importing libraries\n",
    "import numpy as np \n",
    "import pandas as pd\n",
    "from sklearn.model_selection import train_test_split  \n",
    "from sklearn.preprocessing import StandardScaler    \n",
    "from sklearn.neighbors import KNeighborsClassifier  \n",
    "from sklearn.metrics import confusion_matrix  \n"
   ]
  },
  {
   "cell_type": "code",
   "execution_count": 39,
   "id": "c19a76bc",
   "metadata": {},
   "outputs": [
    {
     "name": "stdout",
     "output_type": "stream",
     "text": [
      "    f output\n",
      "0   1    dot\n",
      "1  10    dot\n",
      "2   6  cross\n",
      "3   7    dot\n",
      "4   2    dot\n",
      "5   6  cross\n",
      "6  11    dot\n",
      "7   3  cross\n"
     ]
    }
   ],
   "source": [
    "#reading the dataset\n",
    "dataset=pd.read_csv(\"dataset.csv\")\n",
    "print(dataset)\n",
    "X= dataset['f'].values  \n",
    "y= dataset['output'].values \n"
   ]
  },
  {
   "cell_type": "code",
   "execution_count": 40,
   "id": "0f78eee1",
   "metadata": {},
   "outputs": [],
   "source": [
    "#using reshape to convert data into 2 dimensional array\n",
    "X_train, X_test, y_train, y_test = train_test_split(X, y, random_state=0, test_size = 0.5)\n",
    "X_train = np.array(X_train).reshape(-1,1)\n",
    "X_test = np.array(X_test).reshape(-1,1)"
   ]
  },
  {
   "cell_type": "code",
   "execution_count": 41,
   "id": "c55408c2",
   "metadata": {},
   "outputs": [],
   "source": [
    "#Data normalization\n",
    "norm= StandardScaler()  \n",
    "X_train= norm.fit_transform(X_train)    \n",
    "X_test= norm.transform(X_test)  "
   ]
  },
  {
   "cell_type": "code",
   "execution_count": 42,
   "id": "976e21ef",
   "metadata": {},
   "outputs": [
    {
     "data": {
      "text/plain": [
       "KNeighborsClassifier(metric='euclidean', n_neighbors=3)"
      ]
     },
     "execution_count": 42,
     "metadata": {},
     "output_type": "execute_result"
    }
   ],
   "source": [
    "#creating KNN model\n",
    "model= KNeighborsClassifier(n_neighbors=3, metric= 'euclidean' )  \n",
    "#Data fitting into the model\n",
    "model.fit(X_train, y_train)"
   ]
  },
  {
   "cell_type": "code",
   "execution_count": 57,
   "id": "a418f4d4",
   "metadata": {},
   "outputs": [
    {
     "name": "stdout",
     "output_type": "stream",
     "text": [
      "[[ 2.74562589]\n",
      " [ 0.78446454]\n",
      " [ 2.35339362]\n",
      " [-0.39223227]]\n",
      "Output: ['dot', 'cross', 'dot', 'cross']\n"
     ]
    }
   ],
   "source": [
    "#Predicting the test set result  \n",
    "predict_output = model.predict(X_test) \n",
    "print(X_test)\n",
    "thresults = []\n",
    "for i in X_test:\n",
    "    if i < 1.5:\n",
    "        thresults.append('cross')\n",
    "    else:\n",
    "        thresults.append('dot')\n",
    "print(\"Output:\",thresults)"
   ]
  },
  {
   "cell_type": "code",
   "execution_count": 69,
   "id": "8014f2e1",
   "metadata": {},
   "outputs": [
    {
     "name": "stdout",
     "output_type": "stream",
     "text": [
      "Confusion matrix:\n",
      " [[2 0]\n",
      " [0 2]]\n"
     ]
    }
   ],
   "source": [
    "#checking the output by confusion matrix\n",
    "results= confusion_matrix(y_test, thresults) \n",
    "print(\"Confusion matrix:\\n\",results)"
   ]
  },
  {
   "cell_type": "code",
   "execution_count": 70,
   "id": "ec0bda1f",
   "metadata": {},
   "outputs": [
    {
     "name": "stdout",
     "output_type": "stream",
     "text": [
      "Accuracy= 1.0\n"
     ]
    }
   ],
   "source": [
    "#finding model accuracy\n",
    "count=sum(sum(results))\n",
    "accuracy=(results[0,0]+results[1,1])/count\n",
    "print ('Accuracy=', accuracy)"
   ]
  },
  {
   "cell_type": "code",
   "execution_count": 71,
   "id": "7134bebd",
   "metadata": {},
   "outputs": [
    {
     "name": "stdout",
     "output_type": "stream",
     "text": [
      "Sensitivity= 1.0\n"
     ]
    }
   ],
   "source": [
    "# finding model sensitivity\n",
    "sense = results[0,0]/(results[0,0]+results[0,1])\n",
    "print('Sensitivity=', sense )"
   ]
  },
  {
   "cell_type": "code",
   "execution_count": 72,
   "id": "75f63216",
   "metadata": {},
   "outputs": [
    {
     "name": "stdout",
     "output_type": "stream",
     "text": [
      "Specificity= 1.0\n"
     ]
    }
   ],
   "source": [
    "#finding model specificity\n",
    "specificity = results[1,1]/(results[1,0]+results[1,1])\n",
    "print('Specificity=', specificity)"
   ]
  }
 ],
 "metadata": {
  "kernelspec": {
   "display_name": "Python 3 (ipykernel)",
   "language": "python",
   "name": "python3"
  },
  "language_info": {
   "codemirror_mode": {
    "name": "ipython",
    "version": 3
   },
   "file_extension": ".py",
   "mimetype": "text/x-python",
   "name": "python",
   "nbconvert_exporter": "python",
   "pygments_lexer": "ipython3",
   "version": "3.9.7"
  }
 },
 "nbformat": 4,
 "nbformat_minor": 5
}
